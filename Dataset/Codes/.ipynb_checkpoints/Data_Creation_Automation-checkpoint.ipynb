{
 "cells": [
  {
   "cell_type": "code",
   "execution_count": 31,
   "id": "d0ae99cf",
   "metadata": {},
   "outputs": [],
   "source": [
    "import csv\n",
    "\n",
    "tsv_file = r\"C:\\Users\\HP\\Downloads\\sub-005_task-motion_run-3_events.tsv\"\n",
    "csv_file = r\"C:\\Users\\HP\\Desktop\\Dataset\\Events\\sub_5_run3_events.csv\"\n",
    "\n",
    "with open(tsv_file, 'r', newline='', encoding='utf-8') as tsv_in, open(csv_file, 'w', newline='', encoding='utf-8') as csv_out:\n",
    "    tsv_reader = csv.reader(tsv_in, delimiter='\\t')\n",
    "    csv_writer = csv.writer(csv_out)\n",
    "\n",
    "    for row in tsv_reader:\n",
    "        csv_writer.writerow(row)\n",
    "\n"
   ]
  },
  {
   "cell_type": "code",
   "execution_count": null,
   "id": "05381412",
   "metadata": {},
   "outputs": [],
   "source": [
    "import pandas as pd\n",
    "\n",
    "# Read the first CSV file\n",
    "data = pd.read_csv(r\"C:\\Users\\HP\\Desktop\\Dataset\\Data_csv\\sub5_run3_1.csv\")\n",
    "\n",
    "# Read the second CSV file\n",
    "events = pd.read_csv(r\"C:\\Users\\HP\\Desktop\\Dataset\\Events\\sub_5_run3_events.csv\")\n",
    "\n",
    "# Initialize an empty DataFrame to store the selected data\n",
    "selected_data = pd.DataFrame()\n",
    "\n",
    "# Convert 'Onset' column in seconds to the same unit as 'Time' in the first CSV\n",
    "# events['ONSET'] = events['ONSET'] * 1000  # Convert to milliseconds\n",
    "\n",
    "# Loop through each event in the second CSV file\n",
    "for i in range(len(events) - 1):\n",
    "    current_onset = events.loc[i, 'ONSET']\n",
    "    next_onset = events.loc[i + 1, 'ONSET']\n",
    "    \n",
    "    # Calculate the desired number of rows (650) for the current time range\n",
    "    num_rows = min(650, (next_onset - current_onset) / 0.0625)  # Assuming a time step of 0.0625\n",
    "    \n",
    "    # Select the top 'num_rows' rows for the current time range\n",
    "    selected_rows = data[(data['Time'] >= current_onset) & (data['Time'] < next_onset)].head(int(num_rows))\n",
    "    \n",
    "    # Append the selected data to the DataFrame\n",
    "    selected_data = pd.concat([selected_data, selected_rows], ignore_index=True)\n",
    "\n",
    "# Handle the last event separately\n",
    "last_event = events.iloc[-1]\n",
    "last_onset = last_event['ONSET']\n",
    "num_rows_last = min(650, (data['Time'].max() - last_onset) / 0.0625)\n",
    "last_selected_rows = data[data['Time'] >= last_onset].head(int(num_rows_last))\n",
    "selected_data = pd.concat([selected_data, last_selected_rows], ignore_index=True)\n",
    "\n",
    "# Save the selected data to a new CSV file without the 'Target' column\n",
    "selected_data.to_csv(r\"C:\\Users\\HP\\Desktop\\Dataset\\Output\\sub_5_run3_output_file_1.csv\" index=False, columns=data.columns[:-1])\n"
   ]
  },
  {
   "cell_type": "code",
   "execution_count": null,
   "id": "95e1b8ad",
   "metadata": {},
   "outputs": [],
   "source": [
    "import pandas as pd\n",
    "\n",
    "# Read the first CSV file\n",
    "data = pd.read_csv(r\"C:\\Users\\HP\\Desktop\\Dataset\\Output\\sub_5_run3_output_file_1.csv\")\n",
    "\n",
    "# Read the second CSV file\n",
    "events = pd.read_csv(rr\"C:\\Users\\HP\\Desktop\\Dataset\\Events\\sub_5_run3_events.csv\")\n",
    "\n",
    "# Convert 'Onset' column in seconds to the same unit as 'Time' in the first CSV\n",
    "# events['ONSET'] = events['ONSET'] * 1000  # Convert to milliseconds\n",
    "\n",
    "# Create a list to store the data frames\n",
    "result_data = []\n",
    "\n",
    "# Loop through each event in the second CSV file\n",
    "for index, event in events.iterrows():\n",
    "    onset = event['ONSET']\n",
    "    end_time = onset + 4 # Add 4 seconds in milliseconds\n",
    "    \n",
    "    # Select rows within the onset time range (including both start and end)\n",
    "    selected_data = data[(data['Time'] >= onset) & (data['Time'] <= end_time)]\n",
    "    \n",
    "    # Append the selected data to the result_data list\n",
    "    result_data.append(selected_data)\n",
    "\n",
    "# Concatenate all selected data frames\n",
    "result = pd.concat(result_data, ignore_index=True)\n",
    "\n",
    "# Save the result to a new CSV file\n",
    "result.to_csv(r\"C:\\Users\\HP\\Desktop\\Dataset\\Model_Input\\sub_5_run3_Input.csv\", index=False)\n"
   ]
  },
  {
   "cell_type": "code",
   "execution_count": null,
   "id": "d16e3d06",
   "metadata": {},
   "outputs": [],
   "source": []
  }
 ],
 "metadata": {
  "kernelspec": {
   "display_name": "Python 3 (ipykernel)",
   "language": "python",
   "name": "python3"
  },
  "language_info": {
   "codemirror_mode": {
    "name": "ipython",
    "version": 3
   },
   "file_extension": ".py",
   "mimetype": "text/x-python",
   "name": "python",
   "nbconvert_exporter": "python",
   "pygments_lexer": "ipython3",
   "version": "3.11.4"
  }
 },
 "nbformat": 4,
 "nbformat_minor": 5
}
