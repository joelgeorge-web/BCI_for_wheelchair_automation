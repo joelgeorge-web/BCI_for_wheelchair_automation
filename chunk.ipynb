{
 "cells": [
  {
   "cell_type": "code",
   "execution_count": 3,
   "metadata": {},
   "outputs": [
    {
     "name": "stdout",
     "output_type": "stream",
     "text": [
      "Success\n"
     ]
    }
   ],
   "source": [
    "import pandas as pd\n",
    "import numpy as np\n",
    "\n",
    "# Read the CSV file\n",
    "input_csv_path =r\"C:\\Users\\Joel\\Desktop\\PYTHON\\BCI_for_wheelchair_automation\\jg_rest_jaw_600.csv\"\n",
    "output_csv_path = r\"C:\\Users\\Joel\\Desktop\\PYTHON\\BCI_for_wheelchair_automation\\test3.csv\"\n",
    "\n",
    "# Set the chunk size\n",
    "chunk_size = 25000\n",
    "\n",
    "# Initialize an empty list to store transposed chunks\n",
    "transposed_chunks = []\n",
    "\n",
    "# Define the target values pattern\n",
    "target_values_pattern = [ \"REST\",\"JAW\"]\n",
    "c=0\n",
    "# Read and process chunks of the input CSV file\n",
    "for chunk in pd.read_csv(input_csv_path, chunksize=chunk_size, header=None, nrows=6000000):\n",
    "    # Transpose the chunk\n",
    "    transposed_chunk = chunk.T.values.flatten()\n",
    "    if c>1:\n",
    "        c=0\n",
    "    # Append the target values to the transposed chunk\n",
    "    transposed_chunk = np.append(transposed_chunk, target_values_pattern[c])\n",
    "    # Append the transposed chunk to the list\n",
    "    transposed_chunks.append(transposed_chunk)\n",
    "    c+=1\n",
    "# Create a DataFrame from the transposed chunks\n",
    "transposed_df = pd.DataFrame(transposed_chunks)\n",
    "\n",
    "# Write the transposed data with target values to a new CSV file\n",
    "transposed_df.to_csv(output_csv_path, index=False, header=False)\n",
    "print(\"Success\")"
   ]
  }
 ],
 "metadata": {
  "kernelspec": {
   "display_name": "Python 3",
   "language": "python",
   "name": "python3"
  },
  "language_info": {
   "codemirror_mode": {
    "name": "ipython",
    "version": 3
   },
   "file_extension": ".py",
   "mimetype": "text/x-python",
   "name": "python",
   "nbconvert_exporter": "python",
   "pygments_lexer": "ipython3",
   "version": "3.11.4"
  }
 },
 "nbformat": 4,
 "nbformat_minor": 2
}
