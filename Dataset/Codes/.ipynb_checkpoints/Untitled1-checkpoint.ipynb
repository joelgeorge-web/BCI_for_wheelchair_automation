{
 "cells": [
  {
   "cell_type": "code",
   "execution_count": 1,
   "id": "b4bd5472",
   "metadata": {},
   "outputs": [
    {
     "name": "stdout",
     "output_type": "stream",
     "text": [
      "Collecting event\n",
      "  Downloading event-0.4.3.zip (56 kB)\n",
      "                                              0.0/56.5 kB ? eta -:--:--\n",
      "     ---------------------                    30.7/56.5 kB 1.3 MB/s eta 0:00:01\n",
      "     ---------------------                    30.7/56.5 kB 1.3 MB/s eta 0:00:01\n",
      "     ---------------------                    30.7/56.5 kB 1.3 MB/s eta 0:00:01\n",
      "     ---------------------------            41.0/56.5 kB 178.6 kB/s eta 0:00:01\n",
      "     -------------------------------------- 56.5/56.5 kB 246.1 kB/s eta 0:00:00\n",
      "  Preparing metadata (setup.py): started\n",
      "  Preparing metadata (setup.py): finished with status 'error'\n",
      "Note: you may need to restart the kernel to use updated packages.\n"
     ]
    },
    {
     "name": "stderr",
     "output_type": "stream",
     "text": [
      "  error: subprocess-exited-with-error\n",
      "  \n",
      "  × python setup.py egg_info did not run successfully.\n",
      "  │ exit code: 1\n",
      "  ╰─> [7 lines of output]\n",
      "      Traceback (most recent call last):\n",
      "        File \"<string>\", line 2, in <module>\n",
      "        File \"<pip-setuptools-caller>\", line 34, in <module>\n",
      "        File \"C:\\Users\\HP\\AppData\\Local\\Temp\\pip-install-4ox9sz0k\\event_bee1dc1fa4b84fb2bf34619963f713ec\\setup.py\", line 20\n",
      "          print 'found libevent build directory', best\n",
      "          ^^^^^^^^^^^^^^^^^^^^^^^^^^^^^^^^^^^^^^^^^^^^\n",
      "      SyntaxError: Missing parentheses in call to 'print'. Did you mean print(...)?\n",
      "      [end of output]\n",
      "  \n",
      "  note: This error originates from a subprocess, and is likely not a problem with pip.\n",
      "error: metadata-generation-failed\n",
      "\n",
      "× Encountered error while generating package metadata.\n",
      "╰─> See above for output.\n",
      "\n",
      "note: This is an issue with the package mentioned above, not pip.\n",
      "hint: See above for details.\n",
      "\n",
      "[notice] A new release of pip is available: 23.1.2 -> 23.3.2\n",
      "[notice] To update, run: python.exe -m pip install --upgrade pip\n"
     ]
    }
   ],
   "source": [
    "pip install event"
   ]
  },
  {
   "cell_type": "code",
   "execution_count": 2,
   "id": "cc0003e2",
   "metadata": {},
   "outputs": [
    {
     "name": "stdout",
     "output_type": "stream",
     "text": [
      "pygame 2.5.0 (SDL 2.28.0, Python 3.11.4)\n",
      "Hello from the pygame community. https://www.pygame.org/contribute.html\n",
      "Frame rate is 60.1483498904572. Actual Flashing Frequency will be 20.04944996348573\n",
      "1.8528 \tWARNING \tMonitor specification not found. Creating a temporary one...\n"
     ]
    },
    {
     "ename": "SystemExit",
     "evalue": "0",
     "output_type": "error",
     "traceback": [
      "An exception has occurred, use %tb to see the full traceback.\n",
      "\u001b[1;31mSystemExit\u001b[0m\u001b[1;31m:\u001b[0m 0\n"
     ]
    },
    {
     "name": "stderr",
     "output_type": "stream",
     "text": [
      "C:\\Users\\HP\\AppData\\Local\\Programs\\Python\\Python311\\Lib\\site-packages\\IPython\\core\\interactiveshell.py:3516: UserWarning: To exit: use 'exit', 'quit', or Ctrl-D.\n",
      "  warn(\"To exit: use 'exit', 'quit', or Ctrl-D.\", stacklevel=1)\n"
     ]
    }
   ],
   "source": [
    "from psychopy import visual, core, event\n",
    "import numpy as np\n",
    "\n",
    "tex = np.array([[1, -1], [-1, 1]])\n",
    "cycles = 5\n",
    "size = 512\n",
    "frequency = 20\n",
    "\n",
    "win = visual.Window(size=[1024, 700], units='pix', fullscr=False)\n",
    "stim = visual.GratingStim(win, tex=tex, size=size, units='pix',\n",
    "                          sf=cycles / size, interpolate=False)\n",
    "\n",
    "frame_rate = win.getActualFrameRate()\n",
    "frame_interval = 1 / frame_rate\n",
    "interval = 1 / frequency\n",
    "stim_frames = int(np.round(interval / frame_interval))\n",
    "print(\"Frame rate is {0}. Actual Flashing Frequency will be {1}\".format(frame_rate, str(1 / (stim_frames * frame_interval))))\n",
    "\n",
    "win.flip()\n",
    "n = 0\n",
    "while not event.getKeys('escape'):\n",
    "    if n % stim_frames == 0:\n",
    "        stim.tex = -stim.tex\n",
    "    stim.draw()\n",
    "    win.flip()\n",
    "    n += 1\n",
    "    core.wait(frame_interval)  # Add a wait to control the frame rate\n",
    "\n",
    "win.close()\n",
    "core.quit()\n"
   ]
  },
  {
   "cell_type": "code",
   "execution_count": null,
   "id": "5f7ff8e5",
   "metadata": {},
   "outputs": [],
   "source": []
  }
 ],
 "metadata": {
  "kernelspec": {
   "display_name": "Python 3 (ipykernel)",
   "language": "python",
   "name": "python3"
  },
  "language_info": {
   "codemirror_mode": {
    "name": "ipython",
    "version": 3
   },
   "file_extension": ".py",
   "mimetype": "text/x-python",
   "name": "python",
   "nbconvert_exporter": "python",
   "pygments_lexer": "ipython3",
   "version": "3.11.4"
  }
 },
 "nbformat": 4,
 "nbformat_minor": 5
}
