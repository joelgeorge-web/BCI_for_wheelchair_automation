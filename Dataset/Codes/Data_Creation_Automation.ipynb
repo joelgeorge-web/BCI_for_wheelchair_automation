{
 "cells": [
  {
   "cell_type": "code",
   "execution_count": 13,
   "id": "f4c27576",
   "metadata": {},
   "outputs": [],
   "source": [
    "import csv\n",
    "\n",
    "tsv_file = r\"C:\\Users\\HP\\Downloads\\sub-011_task-motion_run-3_events.tsv\"\n",
    "csv_file = r\"C:\\Users\\HP\\Desktop\\Dataset\\Events\\sub_11_run3_events.csv\"\n",
    "\n",
    "with open(tsv_file, 'r', newline='', encoding='utf-8') as tsv_in, open(csv_file, 'w', newline='', encoding='utf-8') as csv_out:\n",
    "    tsv_reader = csv.reader(tsv_in, delimiter='\\t')\n",
    "    csv_writer = csv.writer(csv_out)\n",
    "\n",
    "    for row in tsv_reader:\n",
    "        csv_writer.writerow(row)\n",
    "\n"
   ]
  },
  {
   "cell_type": "code",
   "execution_count": 17,
   "id": "c403fc94",
   "metadata": {},
   "outputs": [],
   "source": [
    "import pandas as pd\n",
    "\n",
    "# Read the first CSV file\n",
    "data = pd.read_csv(r\"C:\\Users\\HP\\Desktop\\Dataset\\Data_csv\\sub11_run3_1.csv\")\n",
    "\n",
    "# Read the second CSV file\n",
    "events = pd.read_csv(r\"C:\\Users\\HP\\Desktop\\Dataset\\Events\\sub_11_run3_events.csv\")\n",
    "\n",
    "# Initialize the 'Target' column with default values\n",
    "data['Target'] = 'UNKNOWN'\n",
    "\n",
    "# Loop through each event in the second CSV file\n",
    "for i in range(len(events) - 1):\n",
    "    current_onset = events.loc[i, 'ONSET']\n",
    "    next_onset = events.loc[i + 1, 'ONSET']\n",
    "    event_target = events.loc[i, 'TARGET']\n",
    "    \n",
    "    # Set the 'Target' column for rows within the onset time range\n",
    "    data.loc[(data['Time'] >= current_onset) & (data['Time'] < next_onset), 'Target'] = event_target\n",
    "\n",
    "# Handle the last event separately\n",
    "last_event = events.iloc[-1]\n",
    "last_onset = last_event['ONSET']\n",
    "last_target = last_event['TARGET']\n",
    "data.loc[data['Time'] >= last_onset, 'Target'] = last_target\n",
    "\n",
    "# Save the updated data to a new CSV file\n",
    "data.to_csv(r\"C:\\Users\\HP\\Desktop\\Dataset\\Output\\sub_11_run3_output_file_1.csv\", index=False)\n"
   ]
  },
  {
   "cell_type": "code",
   "execution_count": 19,
   "id": "4f6db43e",
   "metadata": {},
   "outputs": [],
   "source": [
    "import pandas as pd\n",
    "\n",
    "# Read the first CSV file\n",
    "data = pd.read_csv(r\"C:\\Users\\HP\\Desktop\\Dataset\\Output\\sub_11_run3_output_file_1.csv\")\n",
    "\n",
    "# Read the second CSV file\n",
    "events = pd.read_csv(r\"C:\\Users\\HP\\Desktop\\Dataset\\Events\\sub_11_run3_events.csv\")\n",
    "\n",
    "# Convert 'Onset' column in seconds to the same unit as 'Time' in the first CSV\n",
    "# events['ONSET'] = events['ONSET'] * 1000  # Convert to milliseconds\n",
    "\n",
    "# Create a list to store the data frames\n",
    "result_data = []\n",
    "\n",
    "# Loop through each event in the second CSV file\n",
    "for index, event in events.iterrows():\n",
    "    onset = event['ONSET']\n",
    "    end_time = onset + 4 # Add 4 seconds in milliseconds\n",
    "    \n",
    "    # Select rows within the onset time range (including both start and end)\n",
    "    selected_data = data[(data['Time'] >= onset) & (data['Time'] <= end_time)]\n",
    "    \n",
    "    # Append the selected data to the result_data list\n",
    "    result_data.append(selected_data)\n",
    "\n",
    "# Concatenate all selected data frames\n",
    "result = pd.concat(result_data, ignore_index=True)\n",
    "\n",
    "# Save the result to a new CSV file\n",
    "result.to_csv(r\"C:\\Users\\HP\\Desktop\\Dataset\\Model_Input\\sub_11_run3_Input.csv\", index=False)\n"
   ]
  },
  {
   "cell_type": "code",
   "execution_count": null,
   "id": "e94c0fc9",
   "metadata": {},
   "outputs": [],
   "source": []
  }
 ],
 "metadata": {
  "kernelspec": {
   "display_name": "Python 3 (ipykernel)",
   "language": "python",
   "name": "python3"
  },
  "language_info": {
   "codemirror_mode": {
    "name": "ipython",
    "version": 3
   },
   "file_extension": ".py",
   "mimetype": "text/x-python",
   "name": "python",
   "nbconvert_exporter": "python",
   "pygments_lexer": "ipython3",
   "version": "3.11.4"
  }
 },
 "nbformat": 4,
 "nbformat_minor": 5
}
