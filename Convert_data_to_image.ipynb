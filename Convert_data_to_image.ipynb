{
 "cells": [
  {
   "cell_type": "code",
   "execution_count": 1,
   "metadata": {},
   "outputs": [],
   "source": [
    "import pandas as pd\n",
    "import numpy as np\n",
    "import matplotlib.pyplot as plt\n",
    "import os\n",
    "\n"
   ]
  },
  {
   "cell_type": "code",
   "execution_count": 2,
   "metadata": {},
   "outputs": [],
   "source": [
    "# Load the data\n",
    "left = pd.read_csv('jg_rest_eye_left_600.csv')\n",
    "right = pd.read_csv('jg_rest_eye_right_600.csv')\n",
    "jaw = pd.read_csv('jg_rest_jaw_600.csv')"
   ]
  },
  {
   "cell_type": "code",
   "execution_count": 3,
   "metadata": {},
   "outputs": [],
   "source": [
    "#create a dataframe for each dataset\n",
    "left_df = pd.DataFrame(left)\n",
    "right_df = pd.DataFrame(right)\n",
    "jaw_df = pd.DataFrame(jaw)\n",
    "\n",
    "#combine to a single dataframe\n",
    "df = pd.concat([left_df, right_df, jaw_df], axis=1)\n",
    "\n",
    "\n",
    "#rename the columns in the dataframe\n",
    "\n",
    "df.columns = ['left', 'right', 'jaw']"
   ]
  },
  {
   "cell_type": "code",
   "execution_count": 4,
   "metadata": {},
   "outputs": [
    {
     "name": "stdout",
     "output_type": "stream",
     "text": [
      "<class 'pandas.core.frame.DataFrame'>\n",
      "RangeIndex: 6097233 entries, 0 to 6097232\n",
      "Data columns (total 3 columns):\n",
      " #   Column  Dtype  \n",
      "---  ------  -----  \n",
      " 0   left    int64  \n",
      " 1   right   float64\n",
      " 2   jaw     float64\n",
      "dtypes: float64(2), int64(1)\n",
      "memory usage: 139.6 MB\n",
      "None\n",
      "(6097233, 3)\n"
     ]
    }
   ],
   "source": [
    "#print the first 5 rows of the dataframe\n",
    "print(df.info())\n",
    "print(df.shape)"
   ]
  },
  {
   "cell_type": "code",
   "execution_count": 7,
   "metadata": {},
   "outputs": [
    {
     "name": "stdout",
     "output_type": "stream",
     "text": [
      "201501    6060\n",
      "201502    6060\n",
      "201499    6059\n",
      "201500    6059\n",
      "201503    6059\n",
      "          ... \n",
      "174530    5289\n",
      "174539    5289\n",
      "192495    5289\n",
      "287571    5289\n",
      "174531    5288\n",
      "Name: left, Length: 1000, dtype: int64\n",
      "5402.322130627775\n"
     ]
    }
   ],
   "source": [
    "#print the rows with the highest values\n",
    "print(df['left'].nlargest(1000))\n",
    "#print the mean of positive data in df['left']\n",
    "print(df['left'][df['left'] > 5000].mean())\n"
   ]
  }
 ],
 "metadata": {
  "kernelspec": {
   "display_name": "Python 3",
   "language": "python",
   "name": "python3"
  },
  "language_info": {
   "codemirror_mode": {
    "name": "ipython",
    "version": 3
   },
   "file_extension": ".py",
   "mimetype": "text/x-python",
   "name": "python",
   "nbconvert_exporter": "python",
   "pygments_lexer": "ipython3",
   "version": "3.11.4"
  }
 },
 "nbformat": 4,
 "nbformat_minor": 2
}
