{
 "cells": [
  {
   "cell_type": "code",
   "execution_count": 1,
   "id": "b200fbe7",
   "metadata": {},
   "outputs": [
    {
     "name": "stdout",
     "output_type": "stream",
     "text": [
      "Splitting completed.\n"
     ]
    }
   ],
   "source": [
    "import pandas as pd\n",
    "\n",
    "# Load the original CSV file\n",
    "original_file_path = r\"C:\\Users\\HP\\Downloads\\Joel_jaw_clench.csv\"\n",
    "df = pd.read_csv(original_file_path)\n",
    "\n",
    "# Specify the number of rows for each split\n",
    "split_size = 4885\n",
    "\n",
    "# Calculate the number of splits needed\n",
    "num_splits = (len(df) // split_size) + 1\n",
    "\n",
    "# Split the DataFrame into chunks\n",
    "split_data = [df.iloc[i*split_size:(i+1)*split_size] for i in range(num_splits)]\n",
    "\n",
    "# Separate odd and even chunks\n",
    "odd_chunks = [split_data[i] for i in range(0, num_splits, 2)]\n",
    "even_chunks = [split_data[i] for i in range(1, num_splits, 2)]\n",
    "\n",
    "# Save odd chunks to a new CSV file\n",
    "odd_file_path = r'C:\\Users\\HP\\Downloads\\odd_chunks.csv'\n",
    "pd.concat(odd_chunks).to_csv(odd_file_path, index=False)\n",
    "\n",
    "# Save even chunks to a new CSV file\n",
    "even_file_path = r'C:\\Users\\HP\\Downloads\\even_chunks.csv'\n",
    "pd.concat(even_chunks).to_csv(even_file_path, index=False)\n",
    "\n",
    "print(\"Splitting completed.\")\n"
   ]
  },
  {
   "cell_type": "code",
   "execution_count": null,
   "id": "fbe11488",
   "metadata": {},
   "outputs": [],
   "source": []
  }
 ],
 "metadata": {
  "kernelspec": {
   "display_name": "Python 3 (ipykernel)",
   "language": "python",
   "name": "python3"
  },
  "language_info": {
   "codemirror_mode": {
    "name": "ipython",
    "version": 3
   },
   "file_extension": ".py",
   "mimetype": "text/x-python",
   "name": "python",
   "nbconvert_exporter": "python",
   "pygments_lexer": "ipython3",
   "version": "3.11.4"
  }
 },
 "nbformat": 4,
 "nbformat_minor": 5
}
