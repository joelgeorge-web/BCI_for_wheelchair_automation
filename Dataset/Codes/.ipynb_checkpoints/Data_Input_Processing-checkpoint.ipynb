{
 "cells": [
  {
   "cell_type": "code",
   "execution_count": 2,
   "id": "36958cf7",
   "metadata": {},
   "outputs": [],
   "source": [
    "import pandas as pd\n",
    "import numpy as np\n",
    "\n",
    "# Read the CSV file\n",
    "df = pd.read_csv(r\"D:\\Joel\\Bioamp_Data\\Data\\Jaw_Clench\\2_mins_Alpha\\JAW\\Jose_Jaw_Rest_2mins.csv\", header=None, names=['eeg_channel_data'])\n",
    "\n",
    "# Initialize variables\n",
    "chunk_size = 50000\n",
    "target_values = ['JAW', 'REST']\n",
    "fixed_length = 50000\n",
    "output_data = []\n",
    "\n",
    "# Iterate over chunks of the DataFrame\n",
    "for i in range(0, len(df), chunk_size):\n",
    "    # Extract the chunk of data\n",
    "    chunk = df['eeg_channel_data'].iloc[i:i + chunk_size].tolist()\n",
    "\n",
    "    # Pad or trim the chunk to a fixed length\n",
    "    if len(chunk) < fixed_length:\n",
    "        chunk = np.pad(chunk, (0, fixed_length - len(chunk)))\n",
    "    elif len(chunk) > fixed_length:\n",
    "        chunk = chunk[:fixed_length]\n",
    "\n",
    "    # Transpose the chunk and add the target value\n",
    "    transposed_chunk = [chunk, target_values[i // chunk_size % 2]]\n",
    "\n",
    "    # Append the transposed chunk to the output data\n",
    "    output_data.append(transposed_chunk)\n",
    "\n",
    "# Create a new DataFrame from the output data\n",
    "output_df = pd.DataFrame(output_data)\n",
    "\n",
    "# Write the result to a new CSV file\n",
    "output_df.to_csv(r\"D:\\Joel\\Bioamp_Data\\Data\\Jaw_Clench\\2_mins_Alpha\\JAW\\Jose_Jaw_Rest_2mins_transposed.csv\", index=False)\n"
   ]
  },
  {
   "cell_type": "code",
   "execution_count": 3,
   "id": "7ee79301",
   "metadata": {},
   "outputs": [
    {
     "ename": "TypeError",
     "evalue": "NDFrame.to_csv() got an unexpected keyword argument 'nrows'",
     "output_type": "error",
     "traceback": [
      "\u001b[1;31m---------------------------------------------------------------------------\u001b[0m",
      "\u001b[1;31mTypeError\u001b[0m                                 Traceback (most recent call last)",
      "Cell \u001b[1;32mIn[3], line 29\u001b[0m\n\u001b[0;32m     26\u001b[0m output_df \u001b[38;5;241m=\u001b[39m pd\u001b[38;5;241m.\u001b[39mDataFrame(output_data, columns\u001b[38;5;241m=\u001b[39m[\u001b[38;5;124m'\u001b[39m\u001b[38;5;124mtransposed_data\u001b[39m\u001b[38;5;124m'\u001b[39m, \u001b[38;5;124m'\u001b[39m\u001b[38;5;124mtarget\u001b[39m\u001b[38;5;124m'\u001b[39m])\n\u001b[0;32m     28\u001b[0m \u001b[38;5;66;03m# Write the result to a new CSV file\u001b[39;00m\n\u001b[1;32m---> 29\u001b[0m \u001b[43moutput_df\u001b[49m\u001b[38;5;241;43m.\u001b[39;49m\u001b[43mto_csv\u001b[49m\u001b[43m(\u001b[49m\u001b[38;5;124;43mr\u001b[39;49m\u001b[38;5;124;43m\"\u001b[39;49m\u001b[38;5;124;43mD:\u001b[39;49m\u001b[38;5;124;43m\\\u001b[39;49m\u001b[38;5;124;43mJoel\u001b[39;49m\u001b[38;5;124;43m\\\u001b[39;49m\u001b[38;5;124;43mBioamp_Data\u001b[39;49m\u001b[38;5;124;43m\\\u001b[39;49m\u001b[38;5;124;43mData\u001b[39;49m\u001b[38;5;124;43m\\\u001b[39;49m\u001b[38;5;124;43mJaw_Clench\u001b[39;49m\u001b[38;5;124;43m\\\u001b[39;49m\u001b[38;5;124;43m2_mins_Alpha\u001b[39;49m\u001b[38;5;124;43m\\\u001b[39;49m\u001b[38;5;124;43mJAW\u001b[39;49m\u001b[38;5;124;43m\\\u001b[39;49m\u001b[38;5;124;43mJose_Jaw_Rest_2mins_transposed.csv\u001b[39;49m\u001b[38;5;124;43m\"\u001b[39;49m\u001b[43m,\u001b[49m\u001b[43m \u001b[49m\u001b[43mindex\u001b[49m\u001b[38;5;241;43m=\u001b[39;49m\u001b[38;5;28;43;01mFalse\u001b[39;49;00m\u001b[43m,\u001b[49m\u001b[43mnrows\u001b[49m\u001b[38;5;241;43m=\u001b[39;49m\u001b[38;5;241;43m20\u001b[39;49m\u001b[43m)\u001b[49m\n",
      "File \u001b[1;32m~\\AppData\\Local\\Programs\\Python\\Python311\\Lib\\site-packages\\pandas\\util\\_decorators.py:211\u001b[0m, in \u001b[0;36mdeprecate_kwarg.<locals>._deprecate_kwarg.<locals>.wrapper\u001b[1;34m(*args, **kwargs)\u001b[0m\n\u001b[0;32m    209\u001b[0m     \u001b[38;5;28;01melse\u001b[39;00m:\n\u001b[0;32m    210\u001b[0m         kwargs[new_arg_name] \u001b[38;5;241m=\u001b[39m new_arg_value\n\u001b[1;32m--> 211\u001b[0m \u001b[38;5;28;01mreturn\u001b[39;00m \u001b[43mfunc\u001b[49m\u001b[43m(\u001b[49m\u001b[38;5;241;43m*\u001b[39;49m\u001b[43margs\u001b[49m\u001b[43m,\u001b[49m\u001b[43m \u001b[49m\u001b[38;5;241;43m*\u001b[39;49m\u001b[38;5;241;43m*\u001b[39;49m\u001b[43mkwargs\u001b[49m\u001b[43m)\u001b[49m\n",
      "\u001b[1;31mTypeError\u001b[0m: NDFrame.to_csv() got an unexpected keyword argument 'nrows'"
     ]
    }
   ],
   "source": [
    "import pandas as pd\n",
    "\n",
    "# Read the CSV file\n",
    "df = pd.read_csv(r\"D:\\Joel\\Bioamp_Data\\Data\\Jaw_Clench\\2_mins_Alpha\\JAW\\Jose_Jaw_Rest_2mins.csv\", header=None, names=['eeg_channel_data'],nrows=2000000)\n",
    "\n",
    "\n",
    "# Initialize variables\n",
    "chunk_size = 50000\n",
    "target_values = ['REST', 'JAW']\n",
    "output_data = []\n",
    "\n",
    "# Iterate over chunks of the DataFrame\n",
    "for i in range(0, len(df), chunk_size):\n",
    "    # Extract the chunk of data\n",
    "    chunk = df['eeg_channel_data'].iloc[i:i + chunk_size].tolist()\n",
    "\n",
    "    # Transpose the chunk and add the target value\n",
    "    transposed_chunk = [chunk]\n",
    "    target_value = target_values[i // chunk_size % 2]\n",
    "    transposed_chunk.append(target_value)\n",
    "\n",
    "    # Append the transposed chunk to the output data\n",
    "    output_data.append(transposed_chunk)\n",
    "\n",
    "# Create a new DataFrame from the output data\n",
    "output_df = pd.DataFrame(output_data, columns=['transposed_data', 'target'])\n",
    "\n",
    "# Write the result to a new CSV file\n",
    "output_df.to_csv(r\"D:\\Joel\\Bioamp_Data\\Data\\Jaw_Clench\\2_mins_Alpha\\JAW\\Jose_Jaw_Rest_2mins_transposed.csv\", index=False)\n"
   ]
  },
  {
   "cell_type": "code",
   "execution_count": 5,
   "id": "6598ec02",
   "metadata": {},
   "outputs": [],
   "source": [
    "import pandas as pd\n",
    "import numpy as np\n",
    "\n",
    "# Read the CSV file\n",
    "input_csv_path = r\"D:\\Joel\\Bioamp_Data\\Data\\Jaw_Clench\\2_mins_Alpha\\JAW\\Jose_Jaw_Rest_2mins.csv\"\n",
    "output_csv_path =r\"D:\\Joel\\Bioamp_Data\\Data\\Jaw_Clench\\2_mins_Alpha\\JAW\\Jose_Jaw_Rest_2mins_transposed.csv\"\n",
    "\n",
    "# Set the chunk size\n",
    "chunk_size = 50000\n",
    "\n",
    "# Initialize an empty DataFrame for the transposed data\n",
    "transposed_df = pd.DataFrame()\n",
    "\n",
    "# Iterate over chunks of the input CSV file\n",
    "for chunk in pd.read_csv(input_csv_path, chunksize=chunk_size, header=None,nrows=2000000):\n",
    "    # Transpose the chunk\n",
    "    transposed_chunk = chunk.T\n",
    "    \n",
    "    # Append the transposed chunk to the DataFrame\n",
    "    transposed_df = pd.concat([transposed_df, transposed_chunk], axis=1)\n",
    "\n",
    "# Write the transposed data to a new CSV file\n",
    "transposed_df.to_csv(output_csv_path, index=False, header=False)\n"
   ]
  },
  {
   "cell_type": "code",
   "execution_count": 17,
   "id": "a516553a",
   "metadata": {},
   "outputs": [],
   "source": [
    "import pandas as pd\n",
    "import numpy as np\n",
    "\n",
    "# Read the CSV file\n",
    "input_csv_path = r\"D:\\Joel\\Bioamp_Data\\Data\\Jaw_Clench\\2_mins_Alpha\\Sandra_Jaw_Rest_2mins.csv\"\n",
    "output_csv_path =r\"D:\\Joel\\Bioamp_Data\\Data\\Jaw_Clench\\2_mins_Alpha\\Sandra_Jaw_Rest_2mins_transposed.csv\"\n",
    "\n",
    "# Set the chunk size\n",
    "chunk_size = 50000\n",
    "\n",
    "# Initialize a list to store transposed chunks\n",
    "transposed_chunks = []\n",
    "\n",
    "# Iterate over chunks of the input CSV file\n",
    "for chunk in pd.read_csv(input_csv_path, chunksize=chunk_size, header=None,nrows=200000):\n",
    "    # Transpose the chunk\n",
    "    transposed_chunk = chunk.T.values.flatten()\n",
    "    \n",
    "    # Append the transposed chunk to the list\n",
    "    transposed_chunks.append(transposed_chunk)\n",
    "\n",
    "# Create a DataFrame from the transposed chunks\n",
    "transposed_df = pd.DataFrame(transposed_chunks)\n",
    "\n",
    "# Write the transposed data to a new CSV file\n",
    "transposed_df.to_csv(output_csv_path, index=False, header=False)\n"
   ]
  },
  {
   "cell_type": "code",
   "execution_count": 11,
   "id": "b4f2ba23",
   "metadata": {},
   "outputs": [
    {
     "name": "stderr",
     "output_type": "stream",
     "text": [
      "C:\\Users\\HP\\AppData\\Local\\Temp\\ipykernel_3068\\3550222931.py:7: DtypeWarning: Columns (48576) have mixed types. Specify dtype option on import or set low_memory=False.\n",
      "  data = pd.read_csv(input_csv_path, header=None)\n"
     ]
    },
    {
     "name": "stdout",
     "output_type": "stream",
     "text": [
      "Row 1 shape: (50001,)\n",
      "Row 2 shape: (50001,)\n",
      "Row 3 shape: (50001,)\n",
      "Row 4 shape: (50001,)\n",
      "Row 5 shape: (50001,)\n",
      "Row 6 shape: (50001,)\n",
      "Row 7 shape: (50001,)\n",
      "Row 8 shape: (50001,)\n",
      "Row 9 shape: (50001,)\n",
      "Row 10 shape: (50001,)\n",
      "Row 11 shape: (50001,)\n",
      "Row 12 shape: (50001,)\n",
      "Row 13 shape: (50001,)\n",
      "Row 14 shape: (50001,)\n",
      "Row 15 shape: (50001,)\n",
      "Row 16 shape: (50001,)\n",
      "Row 17 shape: (50001,)\n",
      "Row 18 shape: (50001,)\n",
      "Row 19 shape: (50001,)\n",
      "Row 20 shape: (50001,)\n",
      "Row 21 shape: (50001,)\n"
     ]
    }
   ],
   "source": [
    "import pandas as pd\n",
    "\n",
    "# Replace 'path_to_input_file.csv' with the actual path to your CSV file\n",
    "input_csv_path = r\"D:\\Joel\\Bioamp_Data\\Data\\Jaw_Clench\\2_mins_Alpha\\JAW\\Jose_Jaw_Rest_2mins_transposed.csv\"\n",
    "\n",
    "# Read the CSV file\n",
    "data = pd.read_csv(input_csv_path, header=None)\n",
    "\n",
    "# Print the shape of each row\n",
    "for index, row in data.iterrows():\n",
    "    row_shape = row.shape\n",
    "    print(f\"Row {index + 1} shape: {row_shape}\")\n"
   ]
  },
  {
   "cell_type": "code",
   "execution_count": null,
   "id": "58d8538a",
   "metadata": {},
   "outputs": [],
   "source": []
  }
 ],
 "metadata": {
  "kernelspec": {
   "display_name": "Python 3 (ipykernel)",
   "language": "python",
   "name": "python3"
  },
  "language_info": {
   "codemirror_mode": {
    "name": "ipython",
    "version": 3
   },
   "file_extension": ".py",
   "mimetype": "text/x-python",
   "name": "python",
   "nbconvert_exporter": "python",
   "pygments_lexer": "ipython3",
   "version": "3.11.4"
  }
 },
 "nbformat": 4,
 "nbformat_minor": 5
}
